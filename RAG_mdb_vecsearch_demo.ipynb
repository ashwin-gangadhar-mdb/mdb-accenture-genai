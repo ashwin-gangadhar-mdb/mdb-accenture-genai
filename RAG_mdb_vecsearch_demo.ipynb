{
 "cells": [
  {
   "cell_type": "code",
   "execution_count": 158,
   "id": "17bdc35d-9e35-49ba-bc60-9466e17ebb01",
   "metadata": {},
   "outputs": [
    {
     "name": "stdin",
     "output_type": "stream",
     "text": [
      "MongoDB connection String (Movie Demo): ········\n",
      "OpenAI API Key: ········\n"
     ]
    }
   ],
   "source": [
    "from pymongo import MongoClient\n",
    "\n",
    "import os\n",
    "import getpass\n",
    "from langchain.llms import OpenAI\n",
    "\n",
    "from langchain.embeddings.openai import OpenAIEmbeddings\n",
    "from langchain.embeddings.huggingface import HuggingFaceEmbeddings\n",
    "from langchain.vectorstores import MongoDBAtlasVectorSearch\n",
    "from langchain.chains import RetrievalQA\n",
    "\n",
    "from langchain.llms import LlamaCpp\n",
    "from langchain import PromptTemplate, LLMChain\n",
    "from langchain.callbacks.manager import CallbackManager\n",
    "from langchain.callbacks.streaming_stdout import StreamingStdOutCallbackHandler\n",
    "\n",
    "os.environ[\"SENTENCE_TRANSFORMERS_HOME\"] = \"tmp/st/\"\n",
    "client = MongoClient(getpass.getpass(\"MongoDB connection String (Movie Demo):\"))\n",
    "os.environ[\"OPENAI_API_KEY\"] = getpass.getpass(\"OpenAI API Key:\")"
   ]
  },
  {
   "cell_type": "code",
   "execution_count": 185,
   "id": "6e9874e8-23b3-4dab-9e84-051563d7a831",
   "metadata": {},
   "outputs": [],
   "source": [
    "# init the embeddings, LLM and vector search retriever(MongoDB vector search)\n",
    "embeddings = OpenAIEmbeddings()\n",
    "llm = OpenAI(temperature=0)\n",
    "\n",
    "col = client['sample_mflix']['embedded_movies']\n",
    "docsearch = MongoDBAtlasVectorSearch(collection=col,embedding=embeddings,index_name=\"default\",embedding_key=\"plot_embedding\", text_key=\"plot\")\n",
    "retriever = docsearch.as_retriever()\n",
    "qa_chain = RetrievalQA.from_chain_type(llm, retriever=retriever)"
   ]
  },
  {
   "cell_type": "code",
   "execution_count": 206,
   "id": "631a2fd4-8591-43c6-ba4c-ebf94e6fdae9",
   "metadata": {},
   "outputs": [
    {
     "name": "stdout",
     "output_type": "stream",
     "text": [
      "#################### Retrieved Documents ####################\n",
      "Title : The Scorpion King, Genres : ['Action', 'Adventure', 'Fantasy'],Plot : A desert warrior rises up against the evil army that is destroying his homeland. He captures the enemy's key sorcerer, takes her deep into the desert and prepares for a final showdown.\n",
      "Title : Aragami, Genres : ['Action', 'Fantasy', 'Horror'],Plot : A raging god of battle and a master samurai duke it out in a series of sword fights in a remote temple.\n",
      "Title : Himiko, Genres : ['Drama', 'Fantasy', 'History'],Plot : A freestyle, imagined telling of the life of shaman queen Himiko, who falls in love with her half-brother, making her powers weaken thus putting her position to risk.\n",
      "Title : Dune, Genres : ['Action', 'Adventure', 'Sci-Fi'],Plot : A Duke's son leads desert warriors against the galactic emperor and his father's evil nemesis when they assassinate his father and free their desert world from the emperor's rule.\n",
      "#################### Response ####################\n",
      " The Scorpion King is a desert warrior who rises up against an evil army that is destroying his homeland. He captures the enemy's key sorcerer and takes her deep into the desert to prepare for a final showdown. He then engages in a series of sword fights with a raging god of battle and a master samurai in a remote temple. He eventually leads desert warriors against the galactic emperor and his father's evil nemesis, freeing his desert world from the emperor's rule.\n"
     ]
    }
   ],
   "source": [
    "question = \"Describe: The Scorpion King in HISHE format\"\n",
    "print(\"#################### Retrieved Documents ####################\")\n",
    "lst = retriever.get_relevant_documents(question)\n",
    "for ele in lst:\n",
    "    d = ele.metadata\n",
    "    print(f'Title : {d[\"title\"]}, Genres : {d[\"genres\"]},Plot : {ele.page_content}')\n",
    "print(\"#################### Response ####################\")\n",
    "out = qa_chain.run(question)\n",
    "print(out)"
   ]
  },
  {
   "cell_type": "markdown",
   "id": "814778c1-3701-4c0b-80b6-d1fc40d5fcd7",
   "metadata": {},
   "source": [
    "# Hugging face Embeddings with LLama v2 locally(privately) hosted\n"
   ]
  },
  {
   "cell_type": "code",
   "execution_count": 207,
   "id": "b615d208-6891-4fd9-9f79-5962fb67b51f",
   "metadata": {},
   "outputs": [
    {
     "name": "stderr",
     "output_type": "stream",
     "text": [
      "llama.cpp: loading model from models/ggml-model-q4_0.bin\n",
      "llama_model_load_internal: format     = ggjt v3 (latest)\n",
      "llama_model_load_internal: n_vocab    = 32000\n",
      "llama_model_load_internal: n_ctx      = 2048\n",
      "llama_model_load_internal: n_embd     = 4096\n",
      "llama_model_load_internal: n_mult     = 256\n",
      "llama_model_load_internal: n_head     = 32\n",
      "llama_model_load_internal: n_layer    = 32\n",
      "llama_model_load_internal: n_rot      = 128\n",
      "llama_model_load_internal: ftype      = 2 (mostly Q4_0)\n",
      "llama_model_load_internal: n_ff       = 11008\n",
      "llama_model_load_internal: n_parts    = 1\n",
      "llama_model_load_internal: model size = 7B\n",
      "llama_model_load_internal: ggml ctx size =    0.07 MB\n",
      "llama_model_load_internal: mem required  = 5439.94 MB (+ 1026.00 MB per state)\n",
      "llama_new_context_with_model: kv self size  = 1024.00 MB\n",
      "AVX = 0 | AVX2 = 0 | AVX512 = 0 | AVX512_VBMI = 0 | AVX512_VNNI = 0 | FMA = 0 | NEON = 1 | ARM_FMA = 1 | F16C = 0 | FP16_VA = 1 | WASM_SIMD = 0 | BLAS = 1 | SSE3 = 0 | VSX = 0 | \n"
     ]
    },
    {
     "name": "stdin",
     "output_type": "stream",
     "text": [
      "MongoDB connection String (Wikipedia Demo): ········\n"
     ]
    }
   ],
   "source": [
    "emb_model = \"sentence-transformers/all-MiniLM-L6-v2\"\n",
    "embeddings_w = HuggingFaceEmbeddings(\n",
    "    model_name=emb_model,\n",
    "    cache_folder=os.getenv('SENTENCE_TRANSFORMERS_HOME')\n",
    ")\n",
    "callback_manager = CallbackManager([StreamingStdOutCallbackHandler()])\n",
    "llm_llama = LlamaCpp(\n",
    "    model_path=\"models/ggml-model-q4_0.bin\", callback_manager=callback_manager, verbose=True,\n",
    "    n_ctx=2048\n",
    ")\n",
    "wclient = MongoClient(getpass.getpass(\"MongoDB connection String (Wikipedia Demo):\"))\n",
    "ds = MongoDBAtlasVectorSearch(collection=wclient[\"sample\"][\"vectest\"],embedding=embeddings_w,index_name=\"default\",embedding_key=\"d\", text_key=\"doc\")\n",
    "wretriever = ds.as_retriever()\n",
    "qa_chain_w = RetrievalQA.from_chain_type(llm_llama, retriever=wretriever)"
   ]
  },
  {
   "cell_type": "code",
   "execution_count": 210,
   "id": "dd02cfcd-3301-46da-a81c-eb0218f26df9",
   "metadata": {},
   "outputs": [
    {
     "name": "stdout",
     "output_type": "stream",
     "text": [
      "Content : 4% (44,212 km2 or 17,070 sq mi) of India's land area Haryana\n",
      "Content : Haryana (/hʌriˈɑːnə/; Hindi: [ɦəɾɪˈjɑːɳɑː]) is an Indian state located in the northern part of the country Haryana\n",
      "Content : Haryana surrounds the country's capital territory of Delhi on three sides (north, west and south), consequently, a large area of Haryana state is included in the economically important National Capital Region of India for the purposes of planning and development Haryana\n",
      "Content : It is ranked 21st in terms of area, with less than 1 Haryana\n"
     ]
    },
    {
     "name": "stderr",
     "output_type": "stream",
     "text": [
      "Llama.generate: prefix-match hit\n"
     ]
    },
    {
     "name": "stdout",
     "output_type": "stream",
     "text": [
      " 4% (44,212 km2 or 17,070 sq mi)"
     ]
    },
    {
     "name": "stderr",
     "output_type": "stream",
     "text": [
      "\n",
      "llama_print_timings:        load time =  7267.74 ms\n",
      "llama_print_timings:      sample time =    17.24 ms /    24 runs   (    0.72 ms per token,  1392.35 tokens per second)\n",
      "llama_print_timings: prompt eval time = 20142.68 ms /   144 tokens (  139.88 ms per token,     7.15 tokens per second)\n",
      "llama_print_timings:        eval time =  5585.05 ms /    24 runs   (  232.71 ms per token,     4.30 tokens per second)\n",
      "llama_print_timings:       total time = 25863.25 ms\n"
     ]
    },
    {
     "data": {
      "text/plain": [
       "' 4% (44,212 km2 or 17,070 sq mi)'"
      ]
     },
     "execution_count": 210,
     "metadata": {},
     "output_type": "execute_result"
    }
   ],
   "source": [
    "question = \"Land area of Haryana?\"\n",
    "lst = wretriever.get_relevant_documents(question)\n",
    "for ele in lst:\n",
    "    d = ele.metadata\n",
    "    print(f'Content : {ele.page_content}')\n",
    "qa_chain_w.run(question)"
   ]
  },
  {
   "cell_type": "code",
   "execution_count": null,
   "id": "191d69c6-89d4-455c-b3ad-f7371c0ffe57",
   "metadata": {},
   "outputs": [],
   "source": []
  }
 ],
 "metadata": {
  "kernelspec": {
   "display_name": "Python 3 (ipykernel)",
   "language": "python",
   "name": "python3"
  },
  "language_info": {
   "codemirror_mode": {
    "name": "ipython",
    "version": 3
   },
   "file_extension": ".py",
   "mimetype": "text/x-python",
   "name": "python",
   "nbconvert_exporter": "python",
   "pygments_lexer": "ipython3",
   "version": "3.9.17"
  }
 },
 "nbformat": 4,
 "nbformat_minor": 5
}
